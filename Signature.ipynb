
        "!pip install --quiet opencv-python-headless scikit-image matplotlib\n",
        "\n",
        "import cv2\n",
        "import numpy as np\n",
        "from skimage.metrics import structural_similarity as ssim\n",
        "from google.colab import files\n",
        "import matplotlib.pyplot as plt\n",
        "\n",
        "\n",
        "print(\"📂 Please upload EXACTLY TWO signature images (jpg/png).\")\n",
        "uploaded = files.upload()\n",
        "if len(uploaded) != 2:\n",
        "    raise SystemExit(\"❌ You must upload exactly TWO images!\")\n",
        "\n",
        "filenames = list(uploaded.keys())\n",
        "img1_path, img2_path = filenames[0], filenames[1]\n",
        "\n",
        "\n",
        "def load_and_preprocess(path, size=(300,300)):\n",
        "    img = cv2.imdecode(np.frombuffer(uploaded[path], np.uint8), cv2.IMREAD_GRAYSCALE)\n",
        "    img = cv2.resize(img, size)\n",
        "    return img\n",
        "\n",
        "img1 = load_and_preprocess(img1_path)\n",
        "img2 = load_and_preprocess(img2_path)\n",
        "\n",
        "\n",
        "orb = cv2.ORB_create(5000)\n",
        "kp1, des1 = orb.detectAndCompute(img1, None)\n",
        "kp2, des2 = orb.detectAndCompute(img2, None)\n",
        "\n",
        "bf = cv2.BFMatcher(cv2.NORM_HAMMING, crossCheck=True)\n",
        "matches = bf.match(des1, des2)\n",
        "matches = sorted(matches, key=lambda x: x.distance)\n",
        "\n",
        "\n",
        "good_matches = [m for m in matches if m.distance < 60]\n",
        "similarity_score_orb = len(good_matches)\n",
        "\n",
        "\n",
        "max_possible_matches = min(len(kp1), len(kp2))\n",
        "orb_percent = (similarity_score_orb / max_possible_matches) * 100 if max_possible_matches>0 else 0\n",
        "\n",
        "\n",
        "similarity_score_ssim = ssim(img1, img2) * 100\n",
        "\n",
        "\n",
        "\n",
        "combined_score = 0.6 * orb_percent + 0.4 * similarity_score_ssim\n",
        "\n",
        "\n",
        "FINAL_THRESHOLD = 50\n",
        "final_decision = \"SIMILAR ✅\" if combined_score >= FINAL_THRESHOLD else \"NOT SIMILAR ❌\"\n",
        "\n",
        "print(f\"ORB Score: {orb_percent:.2f}%\")\n",
        "print(f\"SSIM Score: {similarity_score_ssim:.2f}%\")\n",
        "print(f\"✅ Combined Score: {combined_score:.2f}%\")\n",
        "print(f\"🔹 Final Decision: {final_decision}\")\n",
        "\n",
        "\n",
        "img_matches = cv2.drawMatches(img1, kp1, img2, kp2, good_matches[:20], None, flags=2)\n",
        "plt.figure(figsize=(12,6))\n",
        "plt.imshow(img_matches, cmap='gray')\n",
        "plt.axis(\"off\")\n",
        "plt.title(\"Top ORB Matches\")\n",
        "plt.show()"
      ],
     
          
            
           
           
       
   
     
      
     
      
     
      
 
}
